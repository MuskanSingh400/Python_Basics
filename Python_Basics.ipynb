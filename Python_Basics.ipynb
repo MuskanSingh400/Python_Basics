{
  "nbformat": 4,
  "nbformat_minor": 0,
  "metadata": {
    "colab": {
      "provenance": [],
      "authorship_tag": "ABX9TyPDviCy0jzutvp0mTEu16RN",
      "include_colab_link": true
    },
    "kernelspec": {
      "name": "python3",
      "display_name": "Python 3"
    },
    "language_info": {
      "name": "python"
    }
  },
  "cells": [
    {
      "cell_type": "markdown",
      "metadata": {
        "id": "view-in-github",
        "colab_type": "text"
      },
      "source": [
        "<a href=\"https://colab.research.google.com/github/MuskanSingh400/Python_Basics/blob/main/Python_Basics.ipynb\" target=\"_parent\"><img src=\"https://colab.research.google.com/assets/colab-badge.svg\" alt=\"Open In Colab\"/></a>"
      ]
    },
    {
      "cell_type": "code",
      "execution_count": null,
      "metadata": {
        "colab": {
          "base_uri": "https://localhost:8080/"
        },
        "id": "OFmWIErzsI99",
        "outputId": "6b518d3b-8173-4ca9-979b-60573b9e2277"
      },
      "outputs": [
        {
          "output_type": "stream",
          "name": "stdout",
          "text": [
            "hello world\n"
          ]
        }
      ],
      "source": [
        "print(\"hello world\")"
      ]
    },
    {
      "cell_type": "code",
      "source": [
        "print(1+2)"
      ],
      "metadata": {
        "colab": {
          "base_uri": "https://localhost:8080/"
        },
        "id": "S7lkJLDkvoGj",
        "outputId": "b9fbf097-55e6-421c-891c-f716c22064cc"
      },
      "execution_count": null,
      "outputs": [
        {
          "output_type": "stream",
          "name": "stdout",
          "text": [
            "3\n"
          ]
        }
      ]
    },
    {
      "cell_type": "code",
      "source": [
        "x=\"symbi\"\n",
        "print(x)"
      ],
      "metadata": {
        "colab": {
          "base_uri": "https://localhost:8080/"
        },
        "id": "jhV9OO2Kw7Dh",
        "outputId": "6f6dc4c4-6ca4-4852-ddbf-d4bdfe325bb6"
      },
      "execution_count": null,
      "outputs": [
        {
          "output_type": "stream",
          "name": "stdout",
          "text": [
            "symbi\n"
          ]
        }
      ]
    },
    {
      "cell_type": "code",
      "source": [
        "my_variable=10\n",
        "#x=\"hello\"\n",
        "#age_1=25\n",
        "#this_is_a_long_variable_name=True"
      ],
      "metadata": {
        "id": "FvpN0cXYxLLT"
      },
      "execution_count": null,
      "outputs": []
    },
    {
      "cell_type": "code",
      "source": [
        "1_age=30\n",
        "my-variable=\"error\""
      ],
      "metadata": {
        "colab": {
          "base_uri": "https://localhost:8080/",
          "height": 106
        },
        "id": "7T35wThvyBA-",
        "outputId": "15b4eb4a-a690-4da7-8373-242df8e83dd9"
      },
      "execution_count": null,
      "outputs": [
        {
          "output_type": "error",
          "ename": "SyntaxError",
          "evalue": "invalid decimal literal (ipython-input-9-852959716.py, line 1)",
          "traceback": [
            "\u001b[0;36m  File \u001b[0;32m\"/tmp/ipython-input-9-852959716.py\"\u001b[0;36m, line \u001b[0;32m1\u001b[0m\n\u001b[0;31m    1_age=30\u001b[0m\n\u001b[0m     ^\u001b[0m\n\u001b[0;31mSyntaxError\u001b[0m\u001b[0;31m:\u001b[0m invalid decimal literal\n"
          ]
        }
      ]
    },
    {
      "cell_type": "code",
      "source": [
        "width=10\n",
        "height=4\n",
        "area=width*height\n",
        "print(area)"
      ],
      "metadata": {
        "colab": {
          "base_uri": "https://localhost:8080/"
        },
        "id": "5TXCvwkE0HiU",
        "outputId": "2a45d7a9-d643-4fe9-9c44-b2ae5145499e"
      },
      "execution_count": null,
      "outputs": [
        {
          "output_type": "stream",
          "name": "stdout",
          "text": [
            "40\n"
          ]
        }
      ]
    },
    {
      "cell_type": "code",
      "source": [
        "x,y,z=\"economics\",\"management\",\"computer science\" #topic: assign multiple value\n",
        "print(x,z)\n",
        "print(y)\n",
        "print(z)"
      ],
      "metadata": {
        "colab": {
          "base_uri": "https://localhost:8080/"
        },
        "id": "dJB-Bs351hzT",
        "outputId": "2272d22c-4a7f-494e-b60c-84d2c39987a3"
      },
      "execution_count": null,
      "outputs": [
        {
          "output_type": "stream",
          "name": "stdout",
          "text": [
            "economics computer science\n",
            "management\n",
            "computer science\n"
          ]
        }
      ]
    },
    {
      "cell_type": "code",
      "source": [
        "fruits=\"mango\",\"apple\",\"grapes\" #topic:unpack a collection\n",
        "x,y,z=fruits\n",
        "print(z,y,z)"
      ],
      "metadata": {
        "colab": {
          "base_uri": "https://localhost:8080/"
        },
        "id": "Kuc1PQ6r28g6",
        "outputId": "aa7b07a6-8543-4d2b-b8fe-a016ae321eaa"
      },
      "execution_count": null,
      "outputs": [
        {
          "output_type": "stream",
          "name": "stdout",
          "text": [
            "grapes apple grapes\n"
          ]
        }
      ]
    },
    {
      "cell_type": "code",
      "source": [
        "x=10                                # f string topic\n",
        "y=\"hello\"\n",
        "print(f\"The value of x is :{x}\")\n",
        "print(f\"The value of y is:{y}\")"
      ],
      "metadata": {
        "colab": {
          "base_uri": "https://localhost:8080/"
        },
        "id": "xn0vwuGK42tP",
        "outputId": "a2b83254-fa9d-4be0-b612-5cb1d52d2615"
      },
      "execution_count": null,
      "outputs": [
        {
          "output_type": "stream",
          "name": "stdout",
          "text": [
            "The value of x is :10\n",
            "The value of y is:hello\n"
          ]
        }
      ]
    },
    {
      "cell_type": "code",
      "source": [
        "p=4\n",
        "q=6\n",
        "result=p*q\n",
        "print(\"the result of multiplication\",result)"
      ],
      "metadata": {
        "colab": {
          "base_uri": "https://localhost:8080/"
        },
        "id": "azSi09Ir5tLc",
        "outputId": "1dadc09d-56e6-4c80-ff0e-abdbe574076b"
      },
      "execution_count": null,
      "outputs": [
        {
          "output_type": "stream",
          "name": "stdout",
          "text": [
            "the result of multiplication 24\n"
          ]
        }
      ]
    },
    {
      "cell_type": "code",
      "source": [
        "my_variable=10\n",
        "x=\"hello\"\n",
        "age_1=25\n",
        "a=True\n",
        "print(a)"
      ],
      "metadata": {
        "colab": {
          "base_uri": "https://localhost:8080/"
        },
        "id": "2qxtSsBR6xki",
        "outputId": "de483b81-e90f-4492-c388-8ee0a5219cb4"
      },
      "execution_count": null,
      "outputs": [
        {
          "output_type": "stream",
          "name": "stdout",
          "text": [
            "True\n"
          ]
        }
      ]
    },
    {
      "cell_type": "code",
      "source": [
        "#numric types:\n",
        "x=5 #int\n",
        "y=3.14 #float\n",
        "z=2+3  #complex\n",
        "print(type(x))\n",
        "print(type(y))\n",
        "print(type(z))"
      ],
      "metadata": {
        "colab": {
          "base_uri": "https://localhost:8080/"
        },
        "id": "A1ifoq-I_dQS",
        "outputId": "0c4e7131-2d4f-410e-d973-97505159e559"
      },
      "execution_count": null,
      "outputs": [
        {
          "output_type": "stream",
          "name": "stdout",
          "text": [
            "<class 'int'>\n",
            "<class 'float'>\n",
            "<class 'int'>\n"
          ]
        }
      ]
    },
    {
      "cell_type": "code",
      "source": [
        "# sequence types\n",
        "s=\"hello\"  #strg\n",
        "l=[1,2,3]  #list\n",
        "t=(4,5,6)  #tuple\n",
        "print(type(s))\n",
        "print(type(l))\n",
        "print(type(t))\n",
        "\n"
      ],
      "metadata": {
        "colab": {
          "base_uri": "https://localhost:8080/"
        },
        "id": "yw39nmNp_-U0",
        "outputId": "b223ab76-d957-45ab-a983-77e3eacc73ee"
      },
      "execution_count": null,
      "outputs": [
        {
          "output_type": "stream",
          "name": "stdout",
          "text": [
            "<class 'str'>\n",
            "<class 'list'>\n",
            "<class 'tuple'>\n"
          ]
        }
      ]
    },
    {
      "cell_type": "code",
      "source": [],
      "metadata": {
        "colab": {
          "base_uri": "https://localhost:8080/",
          "height": 106
        },
        "collapsed": true,
        "id": "7p3kfr3vAhbg",
        "outputId": "c15ad849-87c3-476a-cbb9-65eea4457b92"
      },
      "execution_count": null,
      "outputs": [
        {
          "output_type": "error",
          "ename": "SyntaxError",
          "evalue": "unterminated string literal (detected at line 2) (ipython-input-27-3635859471.py, line 2)",
          "traceback": [
            "\u001b[0;36m  File \u001b[0;32m\"/tmp/ipython-input-27-3635859471.py\"\u001b[0;36m, line \u001b[0;32m2\u001b[0m\n\u001b[0;31m    d={'name;'John','age':25}\u001b[0m\n\u001b[0m                        ^\u001b[0m\n\u001b[0;31mSyntaxError\u001b[0m\u001b[0;31m:\u001b[0m unterminated string literal (detected at line 2)\n"
          ]
        }
      ]
    },
    {
      "cell_type": "code",
      "source": [
        "# converting data type\n",
        "# 1. **int():** Convert a value to an integer data type.\n",
        "x=3.14\n",
        "y=int(x)\n",
        "print(y)\n",
        "\n",
        "x = int(3.14)  # x will be 3\n",
        "\n",
        "# 2. **float():** Convert a value to a floating-point data type.\n",
        "\n",
        "a=5 # int\n",
        "y = float(a)  #int is converted to float\n",
        "print(y)\n",
        "\n",
        "# 3. **str():** Convert a value to a string data type.\n",
        "y = 123 #int\n",
        "\n",
        "z = str(y)  # z will be \"123\"\n",
        "print(y)\n",
        "\n",
        "# 4. **bool():** Convert a value to a boolean data type.\n",
        "\n",
        "a = bool(0)  # a will be False\n",
        "print(a)\n",
        "\n",
        "# 5. **list():** Convert a sequence (e.g., tuple, string) to a list.\n",
        "\n",
        "tuple1 = (1, 2, 3)\n",
        "list1 = list(tuple1)  # list1 will be [1, 2, 3]\n",
        "print(list1)"
      ],
      "metadata": {
        "colab": {
          "base_uri": "https://localhost:8080/"
        },
        "id": "xI-nOUHEA8Hl",
        "outputId": "5db914cd-6889-4142-ee43-384f64744194"
      },
      "execution_count": null,
      "outputs": [
        {
          "output_type": "stream",
          "name": "stdout",
          "text": [
            "3\n",
            "5.0\n",
            "123\n",
            "False\n",
            "[1, 2, 3]\n"
          ]
        }
      ]
    },
    {
      "cell_type": "code",
      "source": [
        "#if and else condition\n",
        "x=4\n",
        "if x >5:\n",
        "  print(\"x is greater than 5\")\n",
        "else:\n",
        "  print(\"x is not greater than 5\")"
      ],
      "metadata": {
        "colab": {
          "base_uri": "https://localhost:8080/"
        },
        "id": "UPtdm6kUF7y4",
        "outputId": "d2893f02-7dfb-4400-93c8-c9111df1449a"
      },
      "execution_count": null,
      "outputs": [
        {
          "output_type": "stream",
          "name": "stdout",
          "text": [
            "x is not greater than 5\n"
          ]
        }
      ]
    },
    {
      "cell_type": "code",
      "source": [
        "x=1\n",
        "if x>10:\n",
        " print(\"x is greater than 10\")\n",
        "elif x == 10:\n",
        "  print(\"x is equal to 10\")\n",
        "else:\n",
        "  print(\"x is less than 10\")"
      ],
      "metadata": {
        "colab": {
          "base_uri": "https://localhost:8080/"
        },
        "id": "K4iD4umPHHER",
        "outputId": "ade87d4b-46ef-4506-d3f8-e3af94de65c4"
      },
      "execution_count": null,
      "outputs": [
        {
          "output_type": "stream",
          "name": "stdout",
          "text": [
            "x is less than 10\n"
          ]
        }
      ]
    },
    {
      "cell_type": "code",
      "source": [
        "x=5\n",
        "if x<5:\n",
        " print(\"x is less than 5\")\n",
        "elif x==5:\n",
        "  print(\"x is equal to 5\")\n",
        "else:\n",
        "  print(\"x is greater than 5\")"
      ],
      "metadata": {
        "colab": {
          "base_uri": "https://localhost:8080/"
        },
        "id": "6sz17_yOICCe",
        "outputId": "27814756-d64d-44ea-db10-a7dfa5db1376"
      },
      "execution_count": null,
      "outputs": [
        {
          "output_type": "stream",
          "name": "stdout",
          "text": [
            "x is equal to 5\n"
          ]
        }
      ]
    },
    {
      "cell_type": "code",
      "source": [
        "# Define two variables\n",
        "a = 10\n",
        "b = 20\n",
        "\n",
        "Equals: a == b\n",
        "if a == b:\n",
        "    print(\"a is equal to b\")\n",
        "else:\n",
        "    print(\"a is not equal to b\")\n",
        "\n",
        "# # Not Equals: a != b\n",
        "if a != b:\n",
        "    print(\"a is not equal to b\")\n",
        "else:\n",
        "    print(\"a is equal to b\")\n",
        "\n",
        "# Less than: a < b. a=10 and b= 20\n",
        "if a < b:\n",
        "    print(\"a is less than b\")\n",
        "else:\n",
        "    print(\"a is not less than b\")\n",
        "\n",
        "# Less than or equal to: a <= b\n",
        "if a <= b:\n",
        "    print(\"a is less than or equal to b\")\n",
        "else:\n",
        "    print(\"a is greater than b\")\n",
        "\n",
        "# # Greater than: a > b\n",
        "if a > b:\n",
        "    print(\"a is greater than b\")\n",
        "else:\n",
        "    print(\"a is not greater than b\")\n",
        "\n",
        "# # Greater than or equal to: a >= b\n",
        "if a >= b:\n",
        "    print(\"a is greater than or equal to b\")\n",
        "else:\n",
        "    print(\"a is less than b\")"
      ],
      "metadata": {
        "colab": {
          "base_uri": "https://localhost:8080/"
        },
        "id": "lIDb25CoIlJT",
        "outputId": "52a2c295-4ed0-4bcb-896a-bcc3357c5dfd"
      },
      "execution_count": null,
      "outputs": [
        {
          "output_type": "stream",
          "name": "stdout",
          "text": [
            "a is not equal to b\n",
            "a is not equal to b\n",
            "a is less than b\n",
            "a is less than or equal to b\n",
            "a is not greater than b\n",
            "a is less than b\n"
          ]
        }
      ]
    },
    {
      "cell_type": "code",
      "source": [
        "# while loop\n",
        "x=0\n",
        "while x < 5:\n",
        "  print(\"count is:\",x)\n",
        "  x=x+1"
      ],
      "metadata": {
        "colab": {
          "base_uri": "https://localhost:8080/"
        },
        "id": "3PunA8zAKJoT",
        "outputId": "a4d29f94-29e7-48ce-97a1-3f0518f83e98"
      },
      "execution_count": null,
      "outputs": [
        {
          "output_type": "stream",
          "name": "stdout",
          "text": [
            "count is: 0\n",
            "count is: 1\n",
            "count is: 2\n",
            "count is: 3\n",
            "count is: 4\n"
          ]
        }
      ]
    },
    {
      "cell_type": "code",
      "source": [
        "# for loop\n",
        "numbers = [1,2,3,4,5,6]\n",
        "print(numbers)\n",
        "# print(\"break\")\n",
        "for x in numbers:\n",
        "  print(x)\n"
      ],
      "metadata": {
        "colab": {
          "base_uri": "https://localhost:8080/"
        },
        "id": "iQMg6rqxL-_Q",
        "outputId": "a71abeda-45e4-4df5-9bdf-60e6726880c2"
      },
      "execution_count": null,
      "outputs": [
        {
          "output_type": "stream",
          "name": "stdout",
          "text": [
            "[1, 2, 3, 4, 5, 6]\n",
            "1\n",
            "2\n",
            "3\n",
            "4\n",
            "5\n",
            "6\n"
          ]
        }
      ]
    },
    {
      "cell_type": "code",
      "source": [
        "\n",
        "for x in range(1,10,2):             #start,end,difference\n",
        "  print(x)"
      ],
      "metadata": {
        "colab": {
          "base_uri": "https://localhost:8080/"
        },
        "id": "qflyoxfINKNa",
        "outputId": "84e7dad1-6d28-41df-ffc3-1b3bd3abe604"
      },
      "execution_count": null,
      "outputs": [
        {
          "output_type": "stream",
          "name": "stdout",
          "text": [
            "1\n",
            "3\n",
            "5\n",
            "7\n",
            "9\n"
          ]
        }
      ]
    },
    {
      "cell_type": "code",
      "source": [
        " for x in \"banana\":   #for printing in the same line\n",
        "  print(x,end='')"
      ],
      "metadata": {
        "colab": {
          "base_uri": "https://localhost:8080/"
        },
        "id": "R_xw0goSOkIX",
        "outputId": "2310bc1a-797a-43ad-c341-e0a689e524a9"
      },
      "execution_count": null,
      "outputs": [
        {
          "output_type": "stream",
          "name": "stdout",
          "text": [
            "banana"
          ]
        }
      ]
    },
    {
      "cell_type": "code",
      "source": [
        "for x in \"banana\":  #for printing in different new line\n",
        "  print(x)"
      ],
      "metadata": {
        "colab": {
          "base_uri": "https://localhost:8080/"
        },
        "id": "g1UfNYUuO2aF",
        "outputId": "ae6a4f5f-5e83-437e-e074-5a3e92ae3b31"
      },
      "execution_count": null,
      "outputs": [
        {
          "output_type": "stream",
          "name": "stdout",
          "text": [
            "b\n",
            "a\n",
            "n\n",
            "a\n",
            "n\n",
            "a\n"
          ]
        }
      ]
    },
    {
      "cell_type": "code",
      "source": [
        "#numpy\n",
        "import numpy as np\n",
        "a=np.array([1,2,3])\n",
        "print(a*2)"
      ],
      "metadata": {
        "colab": {
          "base_uri": "https://localhost:8080/"
        },
        "id": "J43tVrW_qX93",
        "outputId": "85429d05-743f-410b-88b3-1b6ad1338b01"
      },
      "execution_count": 2,
      "outputs": [
        {
          "output_type": "stream",
          "name": "stdout",
          "text": [
            "[2 4 6]\n"
          ]
        }
      ]
    },
    {
      "cell_type": "code",
      "source": [
        "\n",
        "# Python list vs NumPy speed test\n",
        "import time\n",
        "a = list(range(1000000)) #list\n",
        "b = np.array(a) #numpy\n",
        "start = time.time()\n",
        "a2 = [x * 2 for x in a]\n",
        "print(\"Python list time:\", time.time() - start)\n",
        "start = time.time()\n",
        "b2 = b * 2\n",
        "print(\"NumPy array time:\", time.time() - start)"
      ],
      "metadata": {
        "colab": {
          "base_uri": "https://localhost:8080/",
          "height": 211
        },
        "id": "bEKmwVePxggC",
        "outputId": "5a7a6360-4173-444f-857b-d02a05850907"
      },
      "execution_count": 11,
      "outputs": [
        {
          "output_type": "error",
          "ename": "TypeError",
          "evalue": "'list' object is not callable",
          "traceback": [
            "\u001b[0;31m---------------------------------------------------------------------------\u001b[0m",
            "\u001b[0;31mTypeError\u001b[0m                                 Traceback (most recent call last)",
            "\u001b[0;32m/tmp/ipython-input-11-3069991744.py\u001b[0m in \u001b[0;36m<cell line: 0>\u001b[0;34m()\u001b[0m\n\u001b[1;32m      5\u001b[0m \u001b[0mstart\u001b[0m \u001b[0;34m=\u001b[0m \u001b[0mtime\u001b[0m\u001b[0;34m.\u001b[0m\u001b[0mtime\u001b[0m\u001b[0;34m(\u001b[0m\u001b[0;34m)\u001b[0m\u001b[0;34m\u001b[0m\u001b[0;34m\u001b[0m\u001b[0m\n\u001b[1;32m      6\u001b[0m \u001b[0ma2\u001b[0m \u001b[0;34m=\u001b[0m \u001b[0;34m[\u001b[0m\u001b[0mx\u001b[0m \u001b[0;34m*\u001b[0m \u001b[0;36m2\u001b[0m \u001b[0;32mfor\u001b[0m \u001b[0mx\u001b[0m \u001b[0;32min\u001b[0m \u001b[0ma\u001b[0m\u001b[0;34m]\u001b[0m\u001b[0;34m\u001b[0m\u001b[0;34m\u001b[0m\u001b[0m\n\u001b[0;32m----> 7\u001b[0;31m \u001b[0mprint\u001b[0m\u001b[0;34m(\u001b[0m\u001b[0;34m\"Python list time:\"\u001b[0m\u001b[0;34m,\u001b[0m \u001b[0mtime\u001b[0m\u001b[0;34m.\u001b[0m\u001b[0mtime\u001b[0m\u001b[0;34m(\u001b[0m\u001b[0;34m)\u001b[0m \u001b[0;34m-\u001b[0m \u001b[0mstart\u001b[0m\u001b[0;34m)\u001b[0m\u001b[0;34m\u001b[0m\u001b[0;34m\u001b[0m\u001b[0m\n\u001b[0m\u001b[1;32m      8\u001b[0m \u001b[0mstart\u001b[0m \u001b[0;34m=\u001b[0m \u001b[0mtime\u001b[0m\u001b[0;34m.\u001b[0m\u001b[0mtime\u001b[0m\u001b[0;34m(\u001b[0m\u001b[0;34m)\u001b[0m\u001b[0;34m\u001b[0m\u001b[0;34m\u001b[0m\u001b[0m\n\u001b[1;32m      9\u001b[0m \u001b[0mb2\u001b[0m \u001b[0;34m=\u001b[0m \u001b[0mb\u001b[0m \u001b[0;34m*\u001b[0m \u001b[0;36m2\u001b[0m\u001b[0;34m\u001b[0m\u001b[0;34m\u001b[0m\u001b[0m\n",
            "\u001b[0;31mTypeError\u001b[0m: 'list' object is not callable"
          ]
        }
      ]
    },
    {
      "cell_type": "code",
      "source": [
        "import numpy as np\n",
        "import builtins\n",
        "builtins.print(np.__version__)"
      ],
      "metadata": {
        "colab": {
          "base_uri": "https://localhost:8080/"
        },
        "id": "jY8ZISp12sD0",
        "outputId": "56f97d8f-6d5c-4c6e-dcda-6b7591cf5022"
      },
      "execution_count": 15,
      "outputs": [
        {
          "output_type": "stream",
          "name": "stdout",
          "text": [
            "2.0.2\n"
          ]
        }
      ]
    },
    {
      "cell_type": "code",
      "source": [
        "import numpy as np\n",
        "import builtins\n",
        "a = np.array([1, 2, 3], dtype=np.float32)\n",
        "builtins.print(a.dtype)  # float32\n",
        "# You can use dtype to save memory or improve performance."
      ],
      "metadata": {
        "colab": {
          "base_uri": "https://localhost:8080/"
        },
        "id": "rw5eODTa4nYz",
        "outputId": "dbaf8afc-4b50-4146-d4da-fcfd3890a2ed"
      },
      "execution_count": 19,
      "outputs": [
        {
          "output_type": "stream",
          "name": "stdout",
          "text": [
            "float32\n"
          ]
        }
      ]
    },
    {
      "cell_type": "code",
      "source": [
        "import numpy as np\n",
        "import builtins\n",
        "arr = np.array([[1, 2, 3], [4, 5, 6]])\n",
        "builtins.print(arr.shape)     # (2, 3)\n",
        "builtins.print(arr.ndim)      # 2\n",
        "builtins.print(arr.size)      # 6\n",
        "builtins.print(arr.itemsize)  # 8 (for int64)\n",
        "builtins.print(arr.nbytes)    # 48"
      ],
      "metadata": {
        "colab": {
          "base_uri": "https://localhost:8080/"
        },
        "id": "wFmGKQUu3ntj",
        "outputId": "52915b08-d239-4516-d414-669a4dc22a99"
      },
      "execution_count": 21,
      "outputs": [
        {
          "output_type": "stream",
          "name": "stdout",
          "text": [
            "(2, 3)\n",
            "2\n",
            "6\n",
            "8\n",
            "48\n"
          ]
        }
      ]
    },
    {
      "cell_type": "code",
      "source": [
        "import numpy as np\n",
        "import builtins\n",
        "# types of array\n",
        "#1d\n",
        "a=np.array([10,20,30,40])\n",
        "builtins.print(a[3])\n",
        "builtins.print(a[1:4])"
      ],
      "metadata": {
        "colab": {
          "base_uri": "https://localhost:8080/"
        },
        "id": "o_80aPrn66gL",
        "outputId": "832fad47-a241-491a-83db-d71f9103dcaf"
      },
      "execution_count": 24,
      "outputs": [
        {
          "output_type": "stream",
          "name": "stdout",
          "text": [
            "40\n",
            "[20 30 40]\n"
          ]
        }
      ]
    },
    {
      "cell_type": "code",
      "source": [
        "#2d\n",
        "b=np.array([[1,2,3],[4,5,6]])\n",
        "builtins.print(b[0,1])\n",
        "builtins.print(b[:,1])\n",
        "builtins.print(b[1])"
      ],
      "metadata": {
        "colab": {
          "base_uri": "https://localhost:8080/"
        },
        "id": "JkutiyeB7m-B",
        "outputId": "d43017b1-8a99-484c-8622-90c24a69a10a"
      },
      "execution_count": 26,
      "outputs": [
        {
          "output_type": "stream",
          "name": "stdout",
          "text": [
            "2\n",
            "[2 5]\n",
            "[4 5 6]\n"
          ]
        }
      ]
    },
    {
      "cell_type": "code",
      "source": [
        "a = np.array([10, 20, 30, 40])\n",
        "builtins.print(a[[0, 2]])  # [10 30]\n",
        "\n",
        "# You can even reorder:\n",
        "\n",
        "builtins.print(a[[3, 1, 0]])  # [40 20 10]"
      ],
      "metadata": {
        "colab": {
          "base_uri": "https://localhost:8080/"
        },
        "id": "fhpgaFwh9Yat",
        "outputId": "d4ba7b4e-fceb-4538-94aa-9b2408924eb5"
      },
      "execution_count": 27,
      "outputs": [
        {
          "output_type": "stream",
          "name": "stdout",
          "text": [
            "[10 30]\n",
            "[40 20 10]\n"
          ]
        }
      ]
    },
    {
      "cell_type": "code",
      "source": [
        "a = np.array([1, 2, 3, 4, 5])\n",
        "mask = a > 3\n",
        "builtins.print(mask)        # [False False False True True]\n",
        "builtins.print(a[mask])     # [4 5]\n",
        "# Or in one line:\n",
        "builtins.print(a[a > 3])    # [4 5]"
      ],
      "metadata": {
        "colab": {
          "base_uri": "https://localhost:8080/"
        },
        "id": "XwgwX5oY-Do1",
        "outputId": "fc7fd01d-2aa1-4dfd-f946-2e7fcc6f5ada"
      },
      "execution_count": 29,
      "outputs": [
        {
          "output_type": "stream",
          "name": "stdout",
          "text": [
            "[False False False  True  True]\n",
            "[4 5]\n",
            "[4 5]\n"
          ]
        }
      ]
    },
    {
      "cell_type": "code",
      "source": [
        "import numpy as np\n",
        "import builtins\n",
        "a=np.array([[1,2],[3,4]])\n",
        "b=np.array([10,20])\n",
        "builtins.print(a+b)"
      ],
      "metadata": {
        "colab": {
          "base_uri": "https://localhost:8080/"
        },
        "id": "7GsSLc71BOAq",
        "outputId": "c86ef41b-380f-40a4-e908-39de4d591201"
      },
      "execution_count": 31,
      "outputs": [
        {
          "output_type": "stream",
          "name": "stdout",
          "text": [
            "[[11 22]\n",
            " [13 24]]\n"
          ]
        }
      ]
    },
    {
      "cell_type": "code",
      "source": [
        "a = np.array([[1, 2], [3, 4]]) # broadcasting error\n",
        "b = np.array([10, 20, 30])\n",
        "# This will raise an error because shapes don't align\n",
        "builtins.print(a + b)"
      ],
      "metadata": {
        "colab": {
          "base_uri": "https://localhost:8080/",
          "height": 176
        },
        "id": "5aOosLR1CmSH",
        "outputId": "e7396abc-22cf-4518-89c1-74d7f1bfcadc"
      },
      "execution_count": 32,
      "outputs": [
        {
          "output_type": "error",
          "ename": "ValueError",
          "evalue": "operands could not be broadcast together with shapes (2,2) (3,) ",
          "traceback": [
            "\u001b[0;31m---------------------------------------------------------------------------\u001b[0m",
            "\u001b[0;31mValueError\u001b[0m                                Traceback (most recent call last)",
            "\u001b[0;32m/tmp/ipython-input-32-2877119870.py\u001b[0m in \u001b[0;36m<cell line: 0>\u001b[0;34m()\u001b[0m\n\u001b[1;32m      2\u001b[0m \u001b[0mb\u001b[0m \u001b[0;34m=\u001b[0m \u001b[0mnp\u001b[0m\u001b[0;34m.\u001b[0m\u001b[0marray\u001b[0m\u001b[0;34m(\u001b[0m\u001b[0;34m[\u001b[0m\u001b[0;36m10\u001b[0m\u001b[0;34m,\u001b[0m \u001b[0;36m20\u001b[0m\u001b[0;34m,\u001b[0m \u001b[0;36m30\u001b[0m\u001b[0;34m]\u001b[0m\u001b[0;34m)\u001b[0m\u001b[0;34m\u001b[0m\u001b[0;34m\u001b[0m\u001b[0m\n\u001b[1;32m      3\u001b[0m \u001b[0;31m# This will raise an error because shapes don't align\u001b[0m\u001b[0;34m\u001b[0m\u001b[0;34m\u001b[0m\u001b[0m\n\u001b[0;32m----> 4\u001b[0;31m \u001b[0mbuiltins\u001b[0m\u001b[0;34m.\u001b[0m\u001b[0mprint\u001b[0m\u001b[0;34m(\u001b[0m\u001b[0ma\u001b[0m \u001b[0;34m+\u001b[0m \u001b[0mb\u001b[0m\u001b[0;34m)\u001b[0m\u001b[0;34m\u001b[0m\u001b[0;34m\u001b[0m\u001b[0m\n\u001b[0m",
            "\u001b[0;31mValueError\u001b[0m: operands could not be broadcast together with shapes (2,2) (3,) "
          ]
        }
      ]
    },
    {
      "cell_type": "code",
      "source": [
        "import numpy as np\n",
        "import builtins\n",
        "a = np.array([1, 2, 3])\n",
        "b = np.array([10, 20, 30])\n",
        "builtins.print(a + b)  # [11 22 33]\n",
        "builtins.print(b - a)  # [9 18 27]\n",
        "builtins.print(a * b)  # [10 40 90]\n",
        "builtins.print(b / a)  # [10. 10. 10.]\n",
        "# Arrays must have the same shape or be broadcast-compatible."
      ],
      "metadata": {
        "colab": {
          "base_uri": "https://localhost:8080/"
        },
        "id": "TdddnBglDHwA",
        "outputId": "a98627a4-53f3-49b2-f742-06350e6f19c0"
      },
      "execution_count": 33,
      "outputs": [
        {
          "output_type": "stream",
          "name": "stdout",
          "text": [
            "[11 22 33]\n",
            "[ 9 18 27]\n",
            "[10 40 90]\n",
            "[10. 10. 10.]\n"
          ]
        }
      ]
    },
    {
      "cell_type": "code",
      "source": [
        "a=np.array([1,2,3])\n",
        "a+=10  #same as a = a+10\n",
        "builtins.print(a)"
      ],
      "metadata": {
        "colab": {
          "base_uri": "https://localhost:8080/"
        },
        "id": "vVZG6xQJEFl8",
        "outputId": "1251607d-7b82-4c70-f0b6-e7d67a596413"
      },
      "execution_count": 34,
      "outputs": [
        {
          "output_type": "stream",
          "name": "stdout",
          "text": [
            "[11 12 13]\n"
          ]
        }
      ]
    },
    {
      "cell_type": "code",
      "source": [
        "#comparison operaters\n",
        "a=np.array([1,2,3])\n",
        "b=np.array([2,2,2])\n",
        "builtins.print(a>b)\n",
        "builtins.print(a==b)\n",
        "builtins.print(a!=b)"
      ],
      "metadata": {
        "colab": {
          "base_uri": "https://localhost:8080/"
        },
        "id": "_R9guKSQEE28",
        "outputId": "7ea0cff3-2296-4750-af41-d43afcc9e19c"
      },
      "execution_count": 35,
      "outputs": [
        {
          "output_type": "stream",
          "name": "stdout",
          "text": [
            "[False False  True]\n",
            "[False  True False]\n",
            "[ True False  True]\n"
          ]
        }
      ]
    },
    {
      "cell_type": "code",
      "source": [
        "import numpy as np\n",
        "a = np.array([1, 2, 3])\n",
        "b = np.array([10, 20, 30])\n",
        "builtins.print(a + b)  # [11 22 33]\n",
        "builtins.print(b - a)  # [9 18 27]\n",
        "builtins.print(a * b)  # [10 40 90]\n",
        "builtins.print(b / a)  # [10. 10. 10.]\n",
        "# Arrays must have the same shape or be broadcast-compatible."
      ],
      "metadata": {
        "colab": {
          "base_uri": "https://localhost:8080/"
        },
        "id": "WuIJReXKF_08",
        "outputId": "c628b4f0-9be9-4f24-ef9a-87a95d28c24f"
      },
      "execution_count": 37,
      "outputs": [
        {
          "output_type": "stream",
          "name": "stdout",
          "text": [
            "[11 22 33]\n",
            "[ 9 18 27]\n",
            "[10 40 90]\n",
            "[10. 10. 10.]\n"
          ]
        }
      ]
    },
    {
      "cell_type": "code",
      "source": [
        "a = np.array([1, 2, 3, 4])\n",
        "builtins.print(np.sum(a))   # 10\n",
        "builtins.print(np.mean(a))  # 2.5\n",
        "builtins.print(np.min(a))   # 1\n",
        "builtins.print(np.std(a))   # 1.118..."
      ],
      "metadata": {
        "colab": {
          "base_uri": "https://localhost:8080/"
        },
        "id": "twCIQ7ysGaH7",
        "outputId": "107d3263-b963-418d-e87a-1c29c9d43c24"
      },
      "execution_count": 38,
      "outputs": [
        {
          "output_type": "stream",
          "name": "stdout",
          "text": [
            "10\n",
            "2.5\n",
            "1\n",
            "1.118033988749895\n"
          ]
        }
      ]
    },
    {
      "cell_type": "code",
      "source": [
        "# Mini Practice\n",
        "a = np.array([[10, 20], [30, 40]])\n",
        "# 1. Square root\n",
        "builtins.print(np.sqrt(a))\n",
        "# 2. Row-wise mean\n",
        "builtins.print(np.mean(a, axis=1))\n",
        "# 3. Which values are > 25?\n",
        "builtins.print(a > 25)"
      ],
      "metadata": {
        "colab": {
          "base_uri": "https://localhost:8080/"
        },
        "id": "897udkN6HWKh",
        "outputId": "ab25fb67-cbed-47c2-ada6-0ced643139a2"
      },
      "execution_count": 39,
      "outputs": [
        {
          "output_type": "stream",
          "name": "stdout",
          "text": [
            "[[3.16227766 4.47213595]\n",
            " [5.47722558 6.32455532]]\n",
            "[15. 35.]\n",
            "[[False False]\n",
            " [ True  True]]\n"
          ]
        }
      ]
    },
    {
      "cell_type": "code",
      "source": [
        "#reshape array\n",
        "import numpy as np\n",
        "a = np.array([1,2,3,4,5])\n"
      ],
      "metadata": {
        "id": "8siV3hywJE-d"
      },
      "execution_count": null,
      "outputs": []
    },
    {
      "cell_type": "code",
      "source": [
        "#transposing and swapping\n",
        "a = np.array([[1, 2], [3, 4]])\n",
        "builtins.print(a.transpose())"
      ],
      "metadata": {
        "colab": {
          "base_uri": "https://localhost:8080/"
        },
        "id": "Cr_3ccSUJuUF",
        "outputId": "fa37b030-2da3-404f-bc7e-8427a2af3cdb"
      },
      "execution_count": 41,
      "outputs": [
        {
          "output_type": "stream",
          "name": "stdout",
          "text": [
            "[[1 3]\n",
            " [2 4]]\n"
          ]
        }
      ]
    },
    {
      "cell_type": "code",
      "source": [
        "#stacking arrays\n",
        "a=np.array([1,2,3])\n",
        "b=np.array([4,5,6])\n",
        "builtins.print(np.vstack((a,b)))  #vertical stacking"
      ],
      "metadata": {
        "colab": {
          "base_uri": "https://localhost:8080/"
        },
        "id": "mPHSjZXZKSz_",
        "outputId": "6dae238a-ba30-42b9-b3fb-5cd2d5da7cd2"
      },
      "execution_count": 42,
      "outputs": [
        {
          "output_type": "stream",
          "name": "stdout",
          "text": [
            "[[1 2 3]\n",
            " [4 5 6]]\n"
          ]
        }
      ]
    },
    {
      "cell_type": "code",
      "source": [
        "builtins.print(np.hstack((a,b)))  #horizontal stacking"
      ],
      "metadata": {
        "colab": {
          "base_uri": "https://localhost:8080/"
        },
        "id": "ih-xWwGqKeEU",
        "outputId": "9d7c9139-fe5d-4242-d645-bad54d3fdbe6"
      },
      "execution_count": 44,
      "outputs": [
        {
          "output_type": "stream",
          "name": "stdout",
          "text": [
            "[1 2 3 4 5 6]\n"
          ]
        }
      ]
    },
    {
      "cell_type": "code",
      "source": [
        "#flitering ,sorting and searching\n",
        "#condition selection\n",
        "a=np.array([10,20,30,40])\n",
        "result=np.where(a>25,1,0)\n",
        "builtins.print(result)\n",
        "\n"
      ],
      "metadata": {
        "colab": {
          "base_uri": "https://localhost:8080/"
        },
        "id": "z6qvQa2GLEIj",
        "outputId": "da83ecd3-f3bb-4c17-a397-de6ed828495f"
      },
      "execution_count": 46,
      "outputs": [
        {
          "output_type": "stream",
          "name": "stdout",
          "text": [
            "[0 0 1 1]\n"
          ]
        }
      ]
    }
  ]
}