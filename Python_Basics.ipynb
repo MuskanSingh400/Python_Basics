{
  "nbformat": 4,
  "nbformat_minor": 0,
  "metadata": {
    "colab": {
      "provenance": [],
      "authorship_tag": "ABX9TyMGFeY7XCWetAow2+8Gd5/x",
      "include_colab_link": true
    },
    "kernelspec": {
      "name": "python3",
      "display_name": "Python 3"
    },
    "language_info": {
      "name": "python"
    }
  },
  "cells": [
    {
      "cell_type": "markdown",
      "metadata": {
        "id": "view-in-github",
        "colab_type": "text"
      },
      "source": [
        "<a href=\"https://colab.research.google.com/github/MuskanSingh400/Python_Basics/blob/main/Python_Basics.ipynb\" target=\"_parent\"><img src=\"https://colab.research.google.com/assets/colab-badge.svg\" alt=\"Open In Colab\"/></a>"
      ]
    },
    {
      "cell_type": "code",
      "execution_count": 1,
      "metadata": {
        "colab": {
          "base_uri": "https://localhost:8080/"
        },
        "id": "OFmWIErzsI99",
        "outputId": "6b518d3b-8173-4ca9-979b-60573b9e2277"
      },
      "outputs": [
        {
          "output_type": "stream",
          "name": "stdout",
          "text": [
            "hello world\n"
          ]
        }
      ],
      "source": [
        "print(\"hello world\")"
      ]
    },
    {
      "cell_type": "code",
      "source": [
        "print(1+2)"
      ],
      "metadata": {
        "colab": {
          "base_uri": "https://localhost:8080/"
        },
        "id": "S7lkJLDkvoGj",
        "outputId": "b9fbf097-55e6-421c-891c-f716c22064cc"
      },
      "execution_count": 3,
      "outputs": [
        {
          "output_type": "stream",
          "name": "stdout",
          "text": [
            "3\n"
          ]
        }
      ]
    },
    {
      "cell_type": "code",
      "source": [
        "x=\"symbi\"\n",
        "print(x)"
      ],
      "metadata": {
        "colab": {
          "base_uri": "https://localhost:8080/"
        },
        "id": "jhV9OO2Kw7Dh",
        "outputId": "6f6dc4c4-6ca4-4852-ddbf-d4bdfe325bb6"
      },
      "execution_count": 6,
      "outputs": [
        {
          "output_type": "stream",
          "name": "stdout",
          "text": [
            "symbi\n"
          ]
        }
      ]
    },
    {
      "cell_type": "code",
      "source": [
        "my_variable=10\n",
        "#x=\"hello\"\n",
        "#age_1=25\n",
        "#this_is_a_long_variable_name=True"
      ],
      "metadata": {
        "id": "FvpN0cXYxLLT"
      },
      "execution_count": 13,
      "outputs": []
    },
    {
      "cell_type": "code",
      "source": [
        "1_age=30\n",
        "my-variable=\"error\""
      ],
      "metadata": {
        "colab": {
          "base_uri": "https://localhost:8080/",
          "height": 106
        },
        "id": "7T35wThvyBA-",
        "outputId": "15b4eb4a-a690-4da7-8373-242df8e83dd9"
      },
      "execution_count": 9,
      "outputs": [
        {
          "output_type": "error",
          "ename": "SyntaxError",
          "evalue": "invalid decimal literal (ipython-input-9-852959716.py, line 1)",
          "traceback": [
            "\u001b[0;36m  File \u001b[0;32m\"/tmp/ipython-input-9-852959716.py\"\u001b[0;36m, line \u001b[0;32m1\u001b[0m\n\u001b[0;31m    1_age=30\u001b[0m\n\u001b[0m     ^\u001b[0m\n\u001b[0;31mSyntaxError\u001b[0m\u001b[0;31m:\u001b[0m invalid decimal literal\n"
          ]
        }
      ]
    },
    {
      "cell_type": "code",
      "source": [
        "width=10\n",
        "height=4\n",
        "area=width*height\n",
        "print(area)"
      ],
      "metadata": {
        "colab": {
          "base_uri": "https://localhost:8080/"
        },
        "id": "5TXCvwkE0HiU",
        "outputId": "2a45d7a9-d643-4fe9-9c44-b2ae5145499e"
      },
      "execution_count": 14,
      "outputs": [
        {
          "output_type": "stream",
          "name": "stdout",
          "text": [
            "40\n"
          ]
        }
      ]
    },
    {
      "cell_type": "code",
      "source": [
        "x,y,z=\"economics\",\"management\",\"computer science\" #topic: assign multiple value\n",
        "print(x,z)\n",
        "print(y)\n",
        "print(z)"
      ],
      "metadata": {
        "colab": {
          "base_uri": "https://localhost:8080/"
        },
        "id": "dJB-Bs351hzT",
        "outputId": "2272d22c-4a7f-494e-b60c-84d2c39987a3"
      },
      "execution_count": 16,
      "outputs": [
        {
          "output_type": "stream",
          "name": "stdout",
          "text": [
            "economics computer science\n",
            "management\n",
            "computer science\n"
          ]
        }
      ]
    },
    {
      "cell_type": "code",
      "source": [
        "fruits=\"mango\",\"apple\",\"grapes\" #topic:unpack a collection\n",
        "x,y,z=fruits\n",
        "print(z,y,z)"
      ],
      "metadata": {
        "colab": {
          "base_uri": "https://localhost:8080/"
        },
        "id": "Kuc1PQ6r28g6",
        "outputId": "aa7b07a6-8543-4d2b-b8fe-a016ae321eaa"
      },
      "execution_count": 17,
      "outputs": [
        {
          "output_type": "stream",
          "name": "stdout",
          "text": [
            "grapes apple grapes\n"
          ]
        }
      ]
    },
    {
      "cell_type": "code",
      "source": [
        "x=10                                # f string topic\n",
        "y=\"hello\"\n",
        "print(f\"The value of x is :{x}\")\n",
        "print(f\"The value of y is:{y}\")"
      ],
      "metadata": {
        "colab": {
          "base_uri": "https://localhost:8080/"
        },
        "id": "xn0vwuGK42tP",
        "outputId": "a2b83254-fa9d-4be0-b612-5cb1d52d2615"
      },
      "execution_count": 20,
      "outputs": [
        {
          "output_type": "stream",
          "name": "stdout",
          "text": [
            "The value of x is :10\n",
            "The value of y is:hello\n"
          ]
        }
      ]
    },
    {
      "cell_type": "code",
      "source": [
        "p=4\n",
        "q=6\n",
        "result=p*q\n",
        "print(\"the result of multiplication\",result)"
      ],
      "metadata": {
        "colab": {
          "base_uri": "https://localhost:8080/"
        },
        "id": "azSi09Ir5tLc",
        "outputId": "1dadc09d-56e6-4c80-ff0e-abdbe574076b"
      },
      "execution_count": 21,
      "outputs": [
        {
          "output_type": "stream",
          "name": "stdout",
          "text": [
            "the result of multiplication 24\n"
          ]
        }
      ]
    },
    {
      "cell_type": "code",
      "source": [
        "my_variable=10\n",
        "x=\"hello\"\n",
        "age_1=25\n",
        "a=True\n",
        "print(a)"
      ],
      "metadata": {
        "colab": {
          "base_uri": "https://localhost:8080/"
        },
        "id": "2qxtSsBR6xki",
        "outputId": "de483b81-e90f-4492-c388-8ee0a5219cb4"
      },
      "execution_count": 22,
      "outputs": [
        {
          "output_type": "stream",
          "name": "stdout",
          "text": [
            "True\n"
          ]
        }
      ]
    },
    {
      "cell_type": "code",
      "source": [
        "#numric types:\n",
        "x=5 #int\n",
        "y=3.14 #float\n",
        "z=2+3  #complex\n",
        "print(type(x))\n",
        "print(type(y))\n",
        "print(type(z))"
      ],
      "metadata": {
        "colab": {
          "base_uri": "https://localhost:8080/"
        },
        "id": "A1ifoq-I_dQS",
        "outputId": "0c4e7131-2d4f-410e-d973-97505159e559"
      },
      "execution_count": 29,
      "outputs": [
        {
          "output_type": "stream",
          "name": "stdout",
          "text": [
            "<class 'int'>\n",
            "<class 'float'>\n",
            "<class 'int'>\n"
          ]
        }
      ]
    },
    {
      "cell_type": "code",
      "source": [
        "# sequence types\n",
        "s=\"hello\"  #strg\n",
        "l=[1,2,3]  #list\n",
        "t=(4,5,6)  #tuple\n",
        "print(type(s))\n",
        "print(type(l))\n",
        "print(type(t))\n",
        "\n"
      ],
      "metadata": {
        "colab": {
          "base_uri": "https://localhost:8080/"
        },
        "id": "yw39nmNp_-U0",
        "outputId": "b223ab76-d957-45ab-a983-77e3eacc73ee"
      },
      "execution_count": 28,
      "outputs": [
        {
          "output_type": "stream",
          "name": "stdout",
          "text": [
            "<class 'str'>\n",
            "<class 'list'>\n",
            "<class 'tuple'>\n"
          ]
        }
      ]
    },
    {
      "cell_type": "code",
      "source": [],
      "metadata": {
        "colab": {
          "base_uri": "https://localhost:8080/",
          "height": 106
        },
        "collapsed": true,
        "id": "7p3kfr3vAhbg",
        "outputId": "c15ad849-87c3-476a-cbb9-65eea4457b92"
      },
      "execution_count": 27,
      "outputs": [
        {
          "output_type": "error",
          "ename": "SyntaxError",
          "evalue": "unterminated string literal (detected at line 2) (ipython-input-27-3635859471.py, line 2)",
          "traceback": [
            "\u001b[0;36m  File \u001b[0;32m\"/tmp/ipython-input-27-3635859471.py\"\u001b[0;36m, line \u001b[0;32m2\u001b[0m\n\u001b[0;31m    d={'name;'John','age':25}\u001b[0m\n\u001b[0m                        ^\u001b[0m\n\u001b[0;31mSyntaxError\u001b[0m\u001b[0;31m:\u001b[0m unterminated string literal (detected at line 2)\n"
          ]
        }
      ]
    },
    {
      "cell_type": "code",
      "source": [
        "# converting data type\n",
        "# 1. **int():** Convert a value to an integer data type.\n",
        "x=3.14\n",
        "y=int(x)\n",
        "print(y)\n",
        "\n",
        "x = int(3.14)  # x will be 3\n",
        "\n",
        "# 2. **float():** Convert a value to a floating-point data type.\n",
        "\n",
        "a=5 # int\n",
        "y = float(a)  #int is converted to float\n",
        "print(y)\n",
        "\n",
        "# 3. **str():** Convert a value to a string data type.\n",
        "y = 123 #int\n",
        "\n",
        "z = str(y)  # z will be \"123\"\n",
        "print(y)\n",
        "\n",
        "# 4. **bool():** Convert a value to a boolean data type.\n",
        "\n",
        "a = bool(0)  # a will be False\n",
        "print(a)\n",
        "\n",
        "# 5. **list():** Convert a sequence (e.g., tuple, string) to a list.\n",
        "\n",
        "tuple1 = (1, 2, 3)\n",
        "list1 = list(tuple1)  # list1 will be [1, 2, 3]\n",
        "print(list1)"
      ],
      "metadata": {
        "colab": {
          "base_uri": "https://localhost:8080/"
        },
        "id": "xI-nOUHEA8Hl",
        "outputId": "5db914cd-6889-4142-ee43-384f64744194"
      },
      "execution_count": 34,
      "outputs": [
        {
          "output_type": "stream",
          "name": "stdout",
          "text": [
            "3\n",
            "5.0\n",
            "123\n",
            "False\n",
            "[1, 2, 3]\n"
          ]
        }
      ]
    },
    {
      "cell_type": "code",
      "source": [
        "#if and else condition\n",
        "x=4\n",
        "if x >5:\n",
        "  print(\"x is greater than 5\")\n",
        "else:\n",
        "  print(\"x is not greater than 5\")"
      ],
      "metadata": {
        "colab": {
          "base_uri": "https://localhost:8080/"
        },
        "id": "UPtdm6kUF7y4",
        "outputId": "d2893f02-7dfb-4400-93c8-c9111df1449a"
      },
      "execution_count": 36,
      "outputs": [
        {
          "output_type": "stream",
          "name": "stdout",
          "text": [
            "x is not greater than 5\n"
          ]
        }
      ]
    },
    {
      "cell_type": "code",
      "source": [
        "x=1\n",
        "if x>10:\n",
        " print(\"x is greater than 10\")\n",
        "elif x == 10:\n",
        "  print(\"x is equal to 10\")\n",
        "else:\n",
        "  print(\"x is less than 10\")"
      ],
      "metadata": {
        "colab": {
          "base_uri": "https://localhost:8080/"
        },
        "id": "K4iD4umPHHER",
        "outputId": "ade87d4b-46ef-4506-d3f8-e3af94de65c4"
      },
      "execution_count": 39,
      "outputs": [
        {
          "output_type": "stream",
          "name": "stdout",
          "text": [
            "x is less than 10\n"
          ]
        }
      ]
    },
    {
      "cell_type": "code",
      "source": [
        "x=5\n",
        "if x<5:\n",
        " print(\"x is less than 5\")\n",
        "elif x==5:\n",
        "  print(\"x is equal to 5\")\n",
        "else:\n",
        "  print(\"x is greater than 5\")"
      ],
      "metadata": {
        "colab": {
          "base_uri": "https://localhost:8080/"
        },
        "id": "6sz17_yOICCe",
        "outputId": "27814756-d64d-44ea-db10-a7dfa5db1376"
      },
      "execution_count": 41,
      "outputs": [
        {
          "output_type": "stream",
          "name": "stdout",
          "text": [
            "x is equal to 5\n"
          ]
        }
      ]
    },
    {
      "cell_type": "code",
      "source": [
        "# Define two variables\n",
        "a = 10\n",
        "b = 20\n",
        "\n",
        "Equals: a == b\n",
        "if a == b:\n",
        "    print(\"a is equal to b\")\n",
        "else:\n",
        "    print(\"a is not equal to b\")\n",
        "\n",
        "# # Not Equals: a != b\n",
        "if a != b:\n",
        "    print(\"a is not equal to b\")\n",
        "else:\n",
        "    print(\"a is equal to b\")\n",
        "\n",
        "# Less than: a < b. a=10 and b= 20\n",
        "if a < b:\n",
        "    print(\"a is less than b\")\n",
        "else:\n",
        "    print(\"a is not less than b\")\n",
        "\n",
        "# Less than or equal to: a <= b\n",
        "if a <= b:\n",
        "    print(\"a is less than or equal to b\")\n",
        "else:\n",
        "    print(\"a is greater than b\")\n",
        "\n",
        "# # Greater than: a > b\n",
        "if a > b:\n",
        "    print(\"a is greater than b\")\n",
        "else:\n",
        "    print(\"a is not greater than b\")\n",
        "\n",
        "# # Greater than or equal to: a >= b\n",
        "if a >= b:\n",
        "    print(\"a is greater than or equal to b\")\n",
        "else:\n",
        "    print(\"a is less than b\")"
      ],
      "metadata": {
        "colab": {
          "base_uri": "https://localhost:8080/"
        },
        "id": "lIDb25CoIlJT",
        "outputId": "52a2c295-4ed0-4bcb-896a-bcc3357c5dfd"
      },
      "execution_count": 43,
      "outputs": [
        {
          "output_type": "stream",
          "name": "stdout",
          "text": [
            "a is not equal to b\n",
            "a is not equal to b\n",
            "a is less than b\n",
            "a is less than or equal to b\n",
            "a is not greater than b\n",
            "a is less than b\n"
          ]
        }
      ]
    },
    {
      "cell_type": "code",
      "source": [
        "# while loop\n",
        "x=0\n",
        "while x < 5:\n",
        "  print(\"count is:\",x)\n",
        "  x=x+1"
      ],
      "metadata": {
        "colab": {
          "base_uri": "https://localhost:8080/"
        },
        "id": "3PunA8zAKJoT",
        "outputId": "a4d29f94-29e7-48ce-97a1-3f0518f83e98"
      },
      "execution_count": 47,
      "outputs": [
        {
          "output_type": "stream",
          "name": "stdout",
          "text": [
            "count is: 0\n",
            "count is: 1\n",
            "count is: 2\n",
            "count is: 3\n",
            "count is: 4\n"
          ]
        }
      ]
    },
    {
      "cell_type": "code",
      "source": [
        "# for loop\n",
        "numbers = [1,2,3,4,5,6]\n",
        "print(numbers)\n",
        "# print(\"break\")\n",
        "for x in numbers:\n",
        "  print(x)\n"
      ],
      "metadata": {
        "colab": {
          "base_uri": "https://localhost:8080/"
        },
        "id": "iQMg6rqxL-_Q",
        "outputId": "a71abeda-45e4-4df5-9bdf-60e6726880c2"
      },
      "execution_count": 55,
      "outputs": [
        {
          "output_type": "stream",
          "name": "stdout",
          "text": [
            "[1, 2, 3, 4, 5, 6]\n",
            "1\n",
            "2\n",
            "3\n",
            "4\n",
            "5\n",
            "6\n"
          ]
        }
      ]
    },
    {
      "cell_type": "code",
      "source": [
        "\n",
        "for x in range(1,10,2):             #start,end,difference\n",
        "  print(x)"
      ],
      "metadata": {
        "colab": {
          "base_uri": "https://localhost:8080/"
        },
        "id": "qflyoxfINKNa",
        "outputId": "84e7dad1-6d28-41df-ffc3-1b3bd3abe604"
      },
      "execution_count": 56,
      "outputs": [
        {
          "output_type": "stream",
          "name": "stdout",
          "text": [
            "1\n",
            "3\n",
            "5\n",
            "7\n",
            "9\n"
          ]
        }
      ]
    },
    {
      "cell_type": "code",
      "source": [
        " for x in \"banana\":   #for printing in the same line\n",
        "  print(x,end='')"
      ],
      "metadata": {
        "colab": {
          "base_uri": "https://localhost:8080/"
        },
        "id": "R_xw0goSOkIX",
        "outputId": "2310bc1a-797a-43ad-c341-e0a689e524a9"
      },
      "execution_count": 57,
      "outputs": [
        {
          "output_type": "stream",
          "name": "stdout",
          "text": [
            "banana"
          ]
        }
      ]
    },
    {
      "cell_type": "code",
      "source": [
        "for x in \"banana\":  #for printing in different new line\n",
        "  print(x)"
      ],
      "metadata": {
        "colab": {
          "base_uri": "https://localhost:8080/"
        },
        "id": "g1UfNYUuO2aF",
        "outputId": "ae6a4f5f-5e83-437e-e074-5a3e92ae3b31"
      },
      "execution_count": 58,
      "outputs": [
        {
          "output_type": "stream",
          "name": "stdout",
          "text": [
            "b\n",
            "a\n",
            "n\n",
            "a\n",
            "n\n",
            "a\n"
          ]
        }
      ]
    }
  ]
}